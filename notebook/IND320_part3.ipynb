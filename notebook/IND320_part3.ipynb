{
 "cells": [
  {
   "cell_type": "markdown",
   "id": "250abd8c-353f-4c66-b0c6-4a8bec30bdc8",
   "metadata": {},
   "source": [
    "# IND320 – Project Part 3 : Data Quality\n",
    "**Author:** Jules Sylvain MUAMBA MVELE\n",
    "\n",
    "## Description\n",
    "This notebook focuses on data quality analyses for IND320 (Part 3):\n",
    "- City / price area mapping (NO1–NO5)\n",
    "- Weather data via Open-Meteo ERA5 (API)\n",
    "- Outliers on temperature (DCT + SPC) and anomalies on precipitation (LOF)\n",
    "- STL decomposition and spectrogram on Elhub production data\n",
    "- 300–500 word work log + brief AI usage note\n",
    "- Links to public GitHub repo and Streamlit app\n",
    "\n",
    "**Note:** Development happens on `part3` branch, then wille be merged to `main` after peer review/feedback.\n"
   ]
  },
  {
   "cell_type": "markdown",
   "id": "0422c6d3-f042-4ace-ad63-250d2a445704",
   "metadata": {},
   "source": [
    "### Links\n",
    "\n",
    "- **GitHub Repository:** [https://github.com/JulesSylMUAMBA/IND320_DataTo_Decision/tree/part2](https://github.com/JulesSylMUAMBA/IND320_DataTo_Decision/tree/part2)\n",
    "- **Streamlit App:** https://ind320datatodecision-m8z5c8kxibzrnoy2parjfq.streamlit.app/\n"
   ]
  },
  {
   "cell_type": "markdown",
   "id": "efe9307a-fed1-4eef-ab98-11ecd67927ef",
   "metadata": {},
   "source": [
    "## AI usage "
   ]
  },
  {
   "cell_type": "markdown",
   "id": "c3a46c90-5993-46d3-a2ee-0fb0b03fb593",
   "metadata": {},
   "source": [
    "During this project, I used AI tools (mainly ChatGPT) as a programming assistant and technical explainer.  \n",
    "The main tasks where AI was used include:\n",
    "- Debugging issues with Python environments (especially Cassandra and package dependencies).\n",
    "- Translating comments and explanations from French to English.\n",
    "- Writing clearly commented code that can be understood by others.\n",
    "- Structuring the project pipeline (Cassandra → MongoDB → Streamlit).\n",
    "- Clarifying the course requirements and how to implement them in a practical way.\n",
    "\n",
    "The AI was **not used to automatically generate the final results**, but as a guide to understand, fix, and organize the code.  \n",
    "All code was tested and adapted manually.  \n",
    "This use of AI helped improve productivity and understanding without replacing independent work.\n"
   ]
  },
  {
   "cell_type": "markdown",
   "id": "51b47f1f-fd1e-4a2a-ad63-6d5c2701376e",
   "metadata": {},
   "source": [
    "# "
   ]
  },
  {
   "cell_type": "markdown",
   "id": "dd7330a5-c8ce-4786-8996-2ff1b158ad5d",
   "metadata": {},
   "source": [
    "## Setup "
   ]
  },
  {
   "cell_type": "code",
   "execution_count": null,
   "id": "a4c6ceeb-5c6f-4478-b325-c2a0b65ab942",
   "metadata": {},
   "outputs": [],
   "source": []
  },
  {
   "cell_type": "markdown",
   "id": "3b58bf5c-d225-46bd-9f62-c74ee5f7ce05",
   "metadata": {},
   "source": [
    "## Cities"
   ]
  },
  {
   "cell_type": "code",
   "execution_count": null,
   "id": "213ff966-2c9b-41d4-ab20-673f1f9e45fb",
   "metadata": {},
   "outputs": [],
   "source": []
  },
  {
   "cell_type": "markdown",
   "id": "5ce9ae83-0207-4834-9833-b54936ac213a",
   "metadata": {},
   "source": [
    "## API "
   ]
  },
  {
   "cell_type": "code",
   "execution_count": null,
   "id": "ba3d3ce8-8d37-4122-b4bd-942e5a75abe4",
   "metadata": {},
   "outputs": [],
   "source": []
  },
  {
   "cell_type": "markdown",
   "id": "31240ac6-1f49-4646-8ba3-1b10f7e6bd2f",
   "metadata": {},
   "source": [
    "## Outliers "
   ]
  },
  {
   "cell_type": "code",
   "execution_count": null,
   "id": "55260b94-f240-4664-820c-80846876e811",
   "metadata": {},
   "outputs": [],
   "source": []
  },
  {
   "cell_type": "markdown",
   "id": "e37c5852-ace2-48a4-91a2-621da2cd7a97",
   "metadata": {},
   "source": [
    "## STL "
   ]
  },
  {
   "cell_type": "code",
   "execution_count": null,
   "id": "26d43d20-f79c-4354-bfb6-6b308685fee7",
   "metadata": {},
   "outputs": [],
   "source": []
  },
  {
   "cell_type": "markdown",
   "id": "98d972cc-44c5-4daf-808e-0c25a38eb478",
   "metadata": {},
   "source": [
    "## Spectogram "
   ]
  },
  {
   "cell_type": "code",
   "execution_count": null,
   "id": "3700e793-e248-4251-9bc6-511710ff502e",
   "metadata": {},
   "outputs": [],
   "source": []
  },
  {
   "cell_type": "markdown",
   "id": "45b206e7-1bfd-4e31-a805-659dba04d473",
   "metadata": {},
   "source": [
    "## Project Log "
   ]
  },
  {
   "cell_type": "code",
   "execution_count": null,
   "id": "27f6dd35-11c1-4983-a02e-20d508d526b5",
   "metadata": {},
   "outputs": [],
   "source": []
  }
 ],
 "metadata": {
  "kernelspec": {
   "display_name": "Python 3 (ipykernel)",
   "language": "python",
   "name": "python3"
  },
  "language_info": {
   "codemirror_mode": {
    "name": "ipython",
    "version": 3
   },
   "file_extension": ".py",
   "mimetype": "text/x-python",
   "name": "python",
   "nbconvert_exporter": "python",
   "pygments_lexer": "ipython3",
   "version": "3.11.14"
  }
 },
 "nbformat": 4,
 "nbformat_minor": 5
}
